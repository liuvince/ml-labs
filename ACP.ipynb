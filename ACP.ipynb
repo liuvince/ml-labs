{
 "cells": [
  {
   "cell_type": "markdown",
   "metadata": {},
   "source": [
    "# TP sur l'ACP en Python\n",
    "Fait par Vincent LIU, traduction du TP en R de Fanny Villers."
   ]
  },
  {
   "cell_type": "code",
   "execution_count": 1,
   "metadata": {},
   "outputs": [],
   "source": [
    "import numpy as np\n",
    "import pandas as pd\n",
    "import sklearn\n",
    "import seaborn as sns; sns.set()\n",
    "import matplotlib.pyplot as plt\n",
    "from sklearn import preprocessing"
   ]
  },
  {
   "cell_type": "code",
   "execution_count": 2,
   "metadata": {},
   "outputs": [],
   "source": [
    "data = pd.read_csv(\"../data/notes_ACP.txt\", sep = \" \")"
   ]
  },
  {
   "cell_type": "markdown",
   "metadata": {},
   "source": [
    "## Analyse descriptive univariée et bi-variée des données."
   ]
  },
  {
   "cell_type": "code",
   "execution_count": 3,
   "metadata": {},
   "outputs": [
    {
     "data": {
      "text/html": [
       "<div>\n",
       "<style scoped>\n",
       "    .dataframe tbody tr th:only-of-type {\n",
       "        vertical-align: middle;\n",
       "    }\n",
       "\n",
       "    .dataframe tbody tr th {\n",
       "        vertical-align: top;\n",
       "    }\n",
       "\n",
       "    .dataframe thead th {\n",
       "        text-align: right;\n",
       "    }\n",
       "</style>\n",
       "<table border=\"1\" class=\"dataframe\">\n",
       "  <thead>\n",
       "    <tr style=\"text-align: right;\">\n",
       "      <th></th>\n",
       "      <th>MATH</th>\n",
       "      <th>PHYS</th>\n",
       "      <th>FRAN</th>\n",
       "      <th>ANGL</th>\n",
       "    </tr>\n",
       "  </thead>\n",
       "  <tbody>\n",
       "    <tr>\n",
       "      <th>jean</th>\n",
       "      <td>6.0</td>\n",
       "      <td>6.0</td>\n",
       "      <td>5.0</td>\n",
       "      <td>5.5</td>\n",
       "    </tr>\n",
       "    <tr>\n",
       "      <th>alan</th>\n",
       "      <td>8.0</td>\n",
       "      <td>8.0</td>\n",
       "      <td>8.0</td>\n",
       "      <td>8.0</td>\n",
       "    </tr>\n",
       "    <tr>\n",
       "      <th>anni</th>\n",
       "      <td>6.0</td>\n",
       "      <td>7.0</td>\n",
       "      <td>11.0</td>\n",
       "      <td>9.5</td>\n",
       "    </tr>\n",
       "    <tr>\n",
       "      <th>moni</th>\n",
       "      <td>14.5</td>\n",
       "      <td>14.5</td>\n",
       "      <td>15.5</td>\n",
       "      <td>15.0</td>\n",
       "    </tr>\n",
       "    <tr>\n",
       "      <th>didi</th>\n",
       "      <td>14.0</td>\n",
       "      <td>14.0</td>\n",
       "      <td>12.0</td>\n",
       "      <td>12.5</td>\n",
       "    </tr>\n",
       "    <tr>\n",
       "      <th>andr</th>\n",
       "      <td>11.0</td>\n",
       "      <td>10.0</td>\n",
       "      <td>5.5</td>\n",
       "      <td>7.0</td>\n",
       "    </tr>\n",
       "    <tr>\n",
       "      <th>pier</th>\n",
       "      <td>5.5</td>\n",
       "      <td>7.0</td>\n",
       "      <td>14.0</td>\n",
       "      <td>11.5</td>\n",
       "    </tr>\n",
       "    <tr>\n",
       "      <th>brig</th>\n",
       "      <td>13.0</td>\n",
       "      <td>12.5</td>\n",
       "      <td>8.5</td>\n",
       "      <td>9.5</td>\n",
       "    </tr>\n",
       "    <tr>\n",
       "      <th>evel</th>\n",
       "      <td>9.0</td>\n",
       "      <td>9.5</td>\n",
       "      <td>12.5</td>\n",
       "      <td>12.0</td>\n",
       "    </tr>\n",
       "  </tbody>\n",
       "</table>\n",
       "</div>"
      ],
      "text/plain": [
       "      MATH  PHYS  FRAN  ANGL\n",
       "jean   6.0   6.0   5.0   5.5\n",
       "alan   8.0   8.0   8.0   8.0\n",
       "anni   6.0   7.0  11.0   9.5\n",
       "moni  14.5  14.5  15.5  15.0\n",
       "didi  14.0  14.0  12.0  12.5\n",
       "andr  11.0  10.0   5.5   7.0\n",
       "pier   5.5   7.0  14.0  11.5\n",
       "brig  13.0  12.5   8.5   9.5\n",
       "evel   9.0   9.5  12.5  12.0"
      ]
     },
     "execution_count": 3,
     "metadata": {},
     "output_type": "execute_result"
    }
   ],
   "source": [
    "data"
   ]
  },
  {
   "cell_type": "code",
   "execution_count": 5,
   "metadata": {},
   "outputs": [
    {
     "name": "stdout",
     "output_type": "stream",
     "text": [
      "Il y a 9 élèves notés dans 4 matières.\n"
     ]
    },
    {
     "data": {
      "text/html": [
       "<div>\n",
       "<style scoped>\n",
       "    .dataframe tbody tr th:only-of-type {\n",
       "        vertical-align: middle;\n",
       "    }\n",
       "\n",
       "    .dataframe tbody tr th {\n",
       "        vertical-align: top;\n",
       "    }\n",
       "\n",
       "    .dataframe thead th {\n",
       "        text-align: right;\n",
       "    }\n",
       "</style>\n",
       "<table border=\"1\" class=\"dataframe\">\n",
       "  <thead>\n",
       "    <tr style=\"text-align: right;\">\n",
       "      <th></th>\n",
       "      <th>MATH</th>\n",
       "      <th>PHYS</th>\n",
       "      <th>FRAN</th>\n",
       "      <th>ANGL</th>\n",
       "    </tr>\n",
       "  </thead>\n",
       "  <tbody>\n",
       "    <tr>\n",
       "      <th>count</th>\n",
       "      <td>9.000000</td>\n",
       "      <td>9.000000</td>\n",
       "      <td>9.000000</td>\n",
       "      <td>9.000000</td>\n",
       "    </tr>\n",
       "    <tr>\n",
       "      <th>mean</th>\n",
       "      <td>9.666667</td>\n",
       "      <td>9.833333</td>\n",
       "      <td>10.222222</td>\n",
       "      <td>10.055556</td>\n",
       "    </tr>\n",
       "    <tr>\n",
       "      <th>std</th>\n",
       "      <td>3.579455</td>\n",
       "      <td>3.172144</td>\n",
       "      <td>3.683673</td>\n",
       "      <td>2.983752</td>\n",
       "    </tr>\n",
       "    <tr>\n",
       "      <th>min</th>\n",
       "      <td>5.500000</td>\n",
       "      <td>6.000000</td>\n",
       "      <td>5.000000</td>\n",
       "      <td>5.500000</td>\n",
       "    </tr>\n",
       "    <tr>\n",
       "      <th>25%</th>\n",
       "      <td>6.000000</td>\n",
       "      <td>7.000000</td>\n",
       "      <td>8.000000</td>\n",
       "      <td>8.000000</td>\n",
       "    </tr>\n",
       "    <tr>\n",
       "      <th>50%</th>\n",
       "      <td>9.000000</td>\n",
       "      <td>9.500000</td>\n",
       "      <td>11.000000</td>\n",
       "      <td>9.500000</td>\n",
       "    </tr>\n",
       "    <tr>\n",
       "      <th>75%</th>\n",
       "      <td>13.000000</td>\n",
       "      <td>12.500000</td>\n",
       "      <td>12.500000</td>\n",
       "      <td>12.000000</td>\n",
       "    </tr>\n",
       "    <tr>\n",
       "      <th>max</th>\n",
       "      <td>14.500000</td>\n",
       "      <td>14.500000</td>\n",
       "      <td>15.500000</td>\n",
       "      <td>15.000000</td>\n",
       "    </tr>\n",
       "  </tbody>\n",
       "</table>\n",
       "</div>"
      ],
      "text/plain": [
       "            MATH       PHYS       FRAN       ANGL\n",
       "count   9.000000   9.000000   9.000000   9.000000\n",
       "mean    9.666667   9.833333  10.222222  10.055556\n",
       "std     3.579455   3.172144   3.683673   2.983752\n",
       "min     5.500000   6.000000   5.000000   5.500000\n",
       "25%     6.000000   7.000000   8.000000   8.000000\n",
       "50%     9.000000   9.500000  11.000000   9.500000\n",
       "75%    13.000000  12.500000  12.500000  12.000000\n",
       "max    14.500000  14.500000  15.500000  15.000000"
      ]
     },
     "execution_count": 5,
     "metadata": {},
     "output_type": "execute_result"
    }
   ],
   "source": [
    "n, p = data.shape\n",
    "names = list(data.index)\n",
    "features = list(data.columns)\n",
    "print(\"Il y a {} élèves notés dans {} matières.\".format(n,p))\n",
    "data.describe()"
   ]
  },
  {
   "cell_type": "code",
   "execution_count": 6,
   "metadata": {},
   "outputs": [
    {
     "data": {
      "image/png": "[encoded data removed]",
      "text/plain": [
       "<Figure size 432x288 with 1 Axes>"
      ]
     },
     "metadata": {
      "needs_background": "light"
     },
     "output_type": "display_data"
    }
   ],
   "source": [
    "ax = sns.boxplot(data = data)"
   ]
  },
  {
   "cell_type": "code",
   "execution_count": 7,
   "metadata": {},
   "outputs": [
    {
     "data": {
      "text/plain": [
       "<seaborn.axisgrid.PairGrid at 0x7fe46bfea128>"
      ]
     },
     "execution_count": 7,
     "metadata": {},
     "output_type": "execute_result"
    },
    {
     "data": {
      "image/png": "[encoded data removed]",
      "text/plain": [
       "<Figure size 720x720 with 20 Axes>"
      ]
     },
     "metadata": {
      "needs_background": "light"
     },
     "output_type": "display_data"
    }
   ],
   "source": [
    "sns.pairplot(data)"
   ]
  },
  {
   "cell_type": "markdown",
   "metadata": {},
   "source": [
    "La matrice de variance-covariance des $p$:\n",
    "\\begin{equation}\n",
    "S = \\begin{bmatrix}\n",
    "s_1^2 & s_{12} & ... & s_{1p} \\\\\n",
    "s_{21} & s_2^2 & ... & s_{2p} \\\\\n",
    "... & ... & ... & ... \\\\\n",
    "s_{p1} & s_{p2} & ... & s_p^2 \n",
    "\\end{bmatrix}\n",
    "= \\frac{1}{n} X^T X\n",
    "\\end{equation}\n",
    "où $s_{jj'}$ est la covariance empirique entre les variables $x^j$ et $x^{j'}$."
   ]
  },
  {
   "cell_type": "code",
   "execution_count": 8,
   "metadata": {},
   "outputs": [
    {
     "data": {
      "text/html": [
       "<div>\n",
       "<style scoped>\n",
       "    .dataframe tbody tr th:only-of-type {\n",
       "        vertical-align: middle;\n",
       "    }\n",
       "\n",
       "    .dataframe tbody tr th {\n",
       "        vertical-align: top;\n",
       "    }\n",
       "\n",
       "    .dataframe thead th {\n",
       "        text-align: right;\n",
       "    }\n",
       "</style>\n",
       "<table border=\"1\" class=\"dataframe\">\n",
       "  <thead>\n",
       "    <tr style=\"text-align: right;\">\n",
       "      <th></th>\n",
       "      <th>MATH</th>\n",
       "      <th>PHYS</th>\n",
       "      <th>FRAN</th>\n",
       "      <th>ANGL</th>\n",
       "    </tr>\n",
       "  </thead>\n",
       "  <tbody>\n",
       "    <tr>\n",
       "      <th>MATH</th>\n",
       "      <td>12.812500</td>\n",
       "      <td>11.156250</td>\n",
       "      <td>2.989583</td>\n",
       "      <td>5.427083</td>\n",
       "    </tr>\n",
       "    <tr>\n",
       "      <th>PHYS</th>\n",
       "      <td>11.156250</td>\n",
       "      <td>10.062500</td>\n",
       "      <td>4.635417</td>\n",
       "      <td>6.166667</td>\n",
       "    </tr>\n",
       "    <tr>\n",
       "      <th>FRAN</th>\n",
       "      <td>2.989583</td>\n",
       "      <td>4.635417</td>\n",
       "      <td>13.569444</td>\n",
       "      <td>10.454861</td>\n",
       "    </tr>\n",
       "    <tr>\n",
       "      <th>ANGL</th>\n",
       "      <td>5.427083</td>\n",
       "      <td>6.166667</td>\n",
       "      <td>10.454861</td>\n",
       "      <td>8.902778</td>\n",
       "    </tr>\n",
       "  </tbody>\n",
       "</table>\n",
       "</div>"
      ],
      "text/plain": [
       "           MATH       PHYS       FRAN       ANGL\n",
       "MATH  12.812500  11.156250   2.989583   5.427083\n",
       "PHYS  11.156250  10.062500   4.635417   6.166667\n",
       "FRAN   2.989583   4.635417  13.569444  10.454861\n",
       "ANGL   5.427083   6.166667  10.454861   8.902778"
      ]
     },
     "execution_count": 8,
     "metadata": {},
     "output_type": "execute_result"
    }
   ],
   "source": [
    "data.cov()"
   ]
  },
  {
   "cell_type": "code",
   "execution_count": 9,
   "metadata": {},
   "outputs": [
    {
     "data": {
      "text/html": [
       "<div>\n",
       "<style scoped>\n",
       "    .dataframe tbody tr th:only-of-type {\n",
       "        vertical-align: middle;\n",
       "    }\n",
       "\n",
       "    .dataframe tbody tr th {\n",
       "        vertical-align: top;\n",
       "    }\n",
       "\n",
       "    .dataframe thead th {\n",
       "        text-align: right;\n",
       "    }\n",
       "</style>\n",
       "<table border=\"1\" class=\"dataframe\">\n",
       "  <thead>\n",
       "    <tr style=\"text-align: right;\">\n",
       "      <th></th>\n",
       "      <th>MATH</th>\n",
       "      <th>PHYS</th>\n",
       "      <th>FRAN</th>\n",
       "      <th>ANGL</th>\n",
       "    </tr>\n",
       "  </thead>\n",
       "  <tbody>\n",
       "    <tr>\n",
       "      <th>MATH</th>\n",
       "      <td>11.388889</td>\n",
       "      <td>9.916667</td>\n",
       "      <td>2.657407</td>\n",
       "      <td>4.824074</td>\n",
       "    </tr>\n",
       "    <tr>\n",
       "      <th>PHYS</th>\n",
       "      <td>9.916667</td>\n",
       "      <td>8.944444</td>\n",
       "      <td>4.120370</td>\n",
       "      <td>5.481481</td>\n",
       "    </tr>\n",
       "    <tr>\n",
       "      <th>FRAN</th>\n",
       "      <td>2.657407</td>\n",
       "      <td>4.120370</td>\n",
       "      <td>12.061728</td>\n",
       "      <td>9.293210</td>\n",
       "    </tr>\n",
       "    <tr>\n",
       "      <th>ANGL</th>\n",
       "      <td>4.824074</td>\n",
       "      <td>5.481481</td>\n",
       "      <td>9.293210</td>\n",
       "      <td>7.913580</td>\n",
       "    </tr>\n",
       "  </tbody>\n",
       "</table>\n",
       "</div>"
      ],
      "text/plain": [
       "           MATH      PHYS       FRAN      ANGL\n",
       "MATH  11.388889  9.916667   2.657407  4.824074\n",
       "PHYS   9.916667  8.944444   4.120370  5.481481\n",
       "FRAN   2.657407  4.120370  12.061728  9.293210\n",
       "ANGL   4.824074  5.481481   9.293210  7.913580"
      ]
     },
     "execution_count": 9,
     "metadata": {},
     "output_type": "execute_result"
    }
   ],
   "source": [
    "data.cov()*((n-1)/n)"
   ]
  },
  {
   "cell_type": "code",
   "execution_count": 101,
   "metadata": {},
   "outputs": [
    {
     "data": {
      "text/html": [
       "<div>\n",
       "<style scoped>\n",
       "    .dataframe tbody tr th:only-of-type {\n",
       "        vertical-align: middle;\n",
       "    }\n",
       "\n",
       "    .dataframe tbody tr th {\n",
       "        vertical-align: top;\n",
       "    }\n",
       "\n",
       "    .dataframe thead th {\n",
       "        text-align: right;\n",
       "    }\n",
       "</style>\n",
       "<table border=\"1\" class=\"dataframe\">\n",
       "  <thead>\n",
       "    <tr style=\"text-align: right;\">\n",
       "      <th></th>\n",
       "      <th>MATH</th>\n",
       "      <th>PHYS</th>\n",
       "      <th>FRAN</th>\n",
       "      <th>ANGL</th>\n",
       "    </tr>\n",
       "  </thead>\n",
       "  <tbody>\n",
       "    <tr>\n",
       "      <th>MATH</th>\n",
       "      <td>1.000000</td>\n",
       "      <td>0.982536</td>\n",
       "      <td>0.226732</td>\n",
       "      <td>0.508144</td>\n",
       "    </tr>\n",
       "    <tr>\n",
       "      <th>PHYS</th>\n",
       "      <td>0.982536</td>\n",
       "      <td>1.000000</td>\n",
       "      <td>0.396693</td>\n",
       "      <td>0.651531</td>\n",
       "    </tr>\n",
       "    <tr>\n",
       "      <th>FRAN</th>\n",
       "      <td>0.226732</td>\n",
       "      <td>0.396693</td>\n",
       "      <td>1.000000</td>\n",
       "      <td>0.951206</td>\n",
       "    </tr>\n",
       "    <tr>\n",
       "      <th>ANGL</th>\n",
       "      <td>0.508144</td>\n",
       "      <td>0.651531</td>\n",
       "      <td>0.951206</td>\n",
       "      <td>1.000000</td>\n",
       "    </tr>\n",
       "  </tbody>\n",
       "</table>\n",
       "</div>"
      ],
      "text/plain": [
       "          MATH      PHYS      FRAN      ANGL\n",
       "MATH  1.000000  0.982536  0.226732  0.508144\n",
       "PHYS  0.982536  1.000000  0.396693  0.651531\n",
       "FRAN  0.226732  0.396693  1.000000  0.951206\n",
       "ANGL  0.508144  0.651531  0.951206  1.000000"
      ]
     },
     "execution_count": 101,
     "metadata": {},
     "output_type": "execute_result"
    }
   ],
   "source": [
    "data.corr() # = data.cov lorsque data est réduit"
   ]
  },
  {
   "cell_type": "code",
   "execution_count": 11,
   "metadata": {},
   "outputs": [
    {
     "data": {
      "text/plain": [
       "MATH     9.666667\n",
       "PHYS     9.833333\n",
       "FRAN    10.222222\n",
       "ANGL    10.055556\n",
       "dtype: float64"
      ]
     },
     "execution_count": 11,
     "metadata": {},
     "output_type": "execute_result"
    }
   ],
   "source": [
    "data.mean(0) # O Moyenne par matières"
   ]
  },
  {
   "cell_type": "code",
   "execution_count": 12,
   "metadata": {},
   "outputs": [
    {
     "data": {
      "text/plain": [
       "jean     5.625\n",
       "alan     8.000\n",
       "anni     8.375\n",
       "moni    14.875\n",
       "didi    13.125\n",
       "andr     8.375\n",
       "pier     9.500\n",
       "brig    10.875\n",
       "evel    10.750\n",
       "dtype: float64"
      ]
     },
     "execution_count": 12,
     "metadata": {},
     "output_type": "execute_result"
    }
   ],
   "source": [
    "data.mean(1) # 1 Moyenne par élèves"
   ]
  },
  {
   "cell_type": "code",
   "execution_count": 13,
   "metadata": {},
   "outputs": [
    {
     "data": {
      "text/plain": [
       "MATH    11.388889\n",
       "PHYS     8.944444\n",
       "FRAN    12.061728\n",
       "ANGL     7.913580\n",
       "dtype: float64"
      ]
     },
     "execution_count": 13,
     "metadata": {},
     "output_type": "execute_result"
    }
   ],
   "source": [
    "data.var(0) * (n-1)/n # Variance par matières"
   ]
  },
  {
   "cell_type": "markdown",
   "metadata": {},
   "source": [
    "## ACP à la main"
   ]
  },
  {
   "cell_type": "code",
   "execution_count": 14,
   "metadata": {},
   "outputs": [],
   "source": [
    "# On centre les données\n",
    "X = preprocessing.StandardScaler(with_std=False).fit_transform(data) # with_std=False: on ne réduit pas"
   ]
  },
  {
   "cell_type": "code",
   "execution_count": 15,
   "metadata": {},
   "outputs": [],
   "source": [
    "# On calcule la matrice de variances-covariances empirique sur les données centrées\n",
    "S = np.cov(X, rowvar = False)*((n-1)/n)\n",
    "# Puis on calcule les valeurs propres et les vecteurs propres de S\n",
    "lambd, vecteur_principaux = np.linalg.eig(S)"
   ]
  },
  {
   "cell_type": "code",
   "execution_count": 16,
   "metadata": {},
   "outputs": [
    {
     "data": {
      "text/plain": [
       "array([2.82348712e+01, 1.20305461e+01, 1.05926923e-02, 3.26320133e-02])"
      ]
     },
     "execution_count": 16,
     "metadata": {},
     "output_type": "execute_result"
    }
   ],
   "source": [
    "lambd # Les vecteurs propres sont rangées dans l'ordre decroissant"
   ]
  },
  {
   "cell_type": "code",
   "execution_count": 17,
   "metadata": {},
   "outputs": [
    {
     "data": {
      "text/plain": [
       "array([[-0.5151694 , -0.56865175,  0.61392592,  0.1852853 ],\n",
       "       [-0.50761286, -0.3712665 , -0.63403815, -0.44998444],\n",
       "       [-0.49227894,  0.65815337,  0.33547278, -0.46038418],\n",
       "       [-0.48434607,  0.32500849, -0.32946714,  0.7424485 ]])"
      ]
     },
     "execution_count": 17,
     "metadata": {},
     "output_type": "execute_result"
    }
   ],
   "source": [
    "vecteur_principaux # On obtient u1, u2, u3 et u4. Les droites engendrées par ces vecteurs sont les axes principaux"
   ]
  },
  {
   "cell_type": "markdown",
   "metadata": {},
   "source": [
    "L'inertie total du nuage de points est:\n",
    "\\begin{equation}\n",
    "I_T = Tr(S)\n",
    "\\end{equation}"
   ]
  },
  {
   "cell_type": "code",
   "execution_count": 18,
   "metadata": {},
   "outputs": [
    {
     "data": {
      "text/plain": [
       "40.30864197530864"
      ]
     },
     "execution_count": 18,
     "metadata": {},
     "output_type": "execute_result"
    }
   ],
   "source": [
    "Inertie = np.sum(np.diag(S))\n",
    "Inertie"
   ]
  },
  {
   "cell_type": "markdown",
   "metadata": {},
   "source": [
    "L'inertie se décompose ainsi:\n",
    "\\begin{equation}\n",
    "I_T = \\lambda_1 + \\lambda_2 + ... \\lambda_p\n",
    "\\end{equation}"
   ]
  },
  {
   "cell_type": "code",
   "execution_count": 19,
   "metadata": {},
   "outputs": [
    {
     "data": {
      "text/plain": [
       "40.30864197530863"
      ]
     },
     "execution_count": 19,
     "metadata": {},
     "output_type": "execute_result"
    }
   ],
   "source": [
    "np.sum(lambd)"
   ]
  },
  {
   "cell_type": "markdown",
   "metadata": {},
   "source": [
    "La part d'inertie expliquée par le $d$-ème axe principal est:\n",
    "\\begin{equation}\n",
    "\\frac{\\lambda_d}{I_t}\n",
    "\\end{equation}"
   ]
  },
  {
   "cell_type": "code",
   "execution_count": 30,
   "metadata": {},
   "outputs": [
    {
     "data": {
      "text/plain": [
       "array([7.00466943e-01, 2.98460714e-01, 2.62789610e-04, 8.09553775e-04])"
      ]
     },
     "execution_count": 30,
     "metadata": {},
     "output_type": "execute_result"
    }
   ],
   "source": [
    "# Part d'inertie expliquée par chaque axe\n",
    "part_inertie = lambd/Inertie\n",
    "part_inertie"
   ]
  },
  {
   "cell_type": "code",
   "execution_count": 21,
   "metadata": {},
   "outputs": [
    {
     "name": "stdout",
     "output_type": "stream",
     "text": [
      "Par ex, la part d'inertie expliquée par le 1er axe est: 0.7004669428577275.\n"
     ]
    }
   ],
   "source": [
    "print(\"Par ex, la part d'inertie expliquée par le 1er axe est: {}.\".format(part_inertie[0]))"
   ]
  },
  {
   "cell_type": "code",
   "execution_count": 22,
   "metadata": {},
   "outputs": [
    {
     "data": {
      "text/plain": [
       "Text(0.5, 1.0, \"Graphe d'eboulis des valeurs propres\")"
      ]
     },
     "execution_count": 22,
     "metadata": {},
     "output_type": "execute_result"
    },
    {
     "data": {
      "image/png": "[encoded data removed]",
      "text/plain": [
       "<Figure size 432x288 with 1 Axes>"
      ]
     },
     "metadata": {
      "needs_background": "light"
     },
     "output_type": "display_data"
    }
   ],
   "source": [
    "# Graphe d'éboulis des valeurs propres\n",
    "sns.lineplot(1 + np.arange(p), part_inertie).set_title(\"Graphe d'eboulis des valeurs propres\")"
   ]
  },
  {
   "cell_type": "markdown",
   "metadata": {},
   "source": [
    "### Représentation des individus dans les nouveaux axes"
   ]
  },
  {
   "cell_type": "markdown",
   "metadata": {},
   "source": [
    "La $d$-ème composante principal $ C^d = X u_d $ donne les coordonnées des n individus sur le $d$-ème axe principal."
   ]
  },
  {
   "cell_type": "code",
   "execution_count": 93,
   "metadata": {},
   "outputs": [],
   "source": [
    "C = np.dot(X,vecteur_principaux[:,:2]) # On garde les deux axes principaux\n",
    "C1 = C[:,0]\n",
    "C2 = C[:,1]"
   ]
  },
  {
   "cell_type": "code",
   "execution_count": 94,
   "metadata": {},
   "outputs": [
    {
     "data": {
      "image/png": "[encoded data removed]",
      "text/plain": [
       "<Figure size 432x288 with 1 Axes>"
      ]
     },
     "metadata": {
      "needs_background": "light"
     },
     "output_type": "display_data"
    }
   ],
   "source": [
    "plt.title(\"Projection sur les 2 premiers axes principaux\")\n",
    "plt.scatter(C1, C2)\n",
    "for i in range(n):\n",
    "    plt.text(C1[i], C2[i], names[i], fontsize=12)"
   ]
  },
  {
   "cell_type": "markdown",
   "metadata": {},
   "source": [
    "### Qualité de la représentation d’un individu \n",
    "Par exemple, sur le premier axe principal:\n",
    "\\begin{equation}\n",
    "cos^2_{u1}(x_1) = \\frac{(C^1_i)^2}{||x_i||^2}\n",
    "\\end{equation}"
   ]
  },
  {
   "cell_type": "code",
   "execution_count": 97,
   "metadata": {},
   "outputs": [
    {
     "data": {
      "text/html": [
       "<div>\n",
       "<style scoped>\n",
       "    .dataframe tbody tr th:only-of-type {\n",
       "        vertical-align: middle;\n",
       "    }\n",
       "\n",
       "    .dataframe tbody tr th {\n",
       "        vertical-align: top;\n",
       "    }\n",
       "\n",
       "    .dataframe thead th {\n",
       "        text-align: right;\n",
       "    }\n",
       "</style>\n",
       "<table border=\"1\" class=\"dataframe\">\n",
       "  <thead>\n",
       "    <tr style=\"text-align: right;\">\n",
       "      <th></th>\n",
       "      <th>Noms</th>\n",
       "      <th>Qualité_Axe1</th>\n",
       "      <th>Qualité_Axe2</th>\n",
       "      <th>Qualité_Plan</th>\n",
       "    </tr>\n",
       "  </thead>\n",
       "  <tbody>\n",
       "    <tr>\n",
       "      <th>0</th>\n",
       "      <td>jean</td>\n",
       "      <td>0.973793</td>\n",
       "      <td>0.026080</td>\n",
       "      <td>0.999873</td>\n",
       "    </tr>\n",
       "    <tr>\n",
       "      <th>1</th>\n",
       "      <td>alan</td>\n",
       "      <td>0.983177</td>\n",
       "      <td>0.016483</td>\n",
       "      <td>0.999660</td>\n",
       "    </tr>\n",
       "    <tr>\n",
       "      <th>2</th>\n",
       "      <td>anni</td>\n",
       "      <td>0.461268</td>\n",
       "      <td>0.537359</td>\n",
       "      <td>0.998627</td>\n",
       "    </tr>\n",
       "    <tr>\n",
       "      <th>3</th>\n",
       "      <td>moni</td>\n",
       "      <td>0.996067</td>\n",
       "      <td>0.003689</td>\n",
       "      <td>0.999755</td>\n",
       "    </tr>\n",
       "    <tr>\n",
       "      <th>4</th>\n",
       "      <td>didi</td>\n",
       "      <td>0.906559</td>\n",
       "      <td>0.092513</td>\n",
       "      <td>0.999073</td>\n",
       "    </tr>\n",
       "    <tr>\n",
       "      <th>5</th>\n",
       "      <td>andr</td>\n",
       "      <td>0.275100</td>\n",
       "      <td>0.724172</td>\n",
       "      <td>0.999272</td>\n",
       "    </tr>\n",
       "    <tr>\n",
       "      <th>6</th>\n",
       "      <td>pier</td>\n",
       "      <td>0.025188</td>\n",
       "      <td>0.974147</td>\n",
       "      <td>0.999335</td>\n",
       "    </tr>\n",
       "    <tr>\n",
       "      <th>7</th>\n",
       "      <td>brig</td>\n",
       "      <td>0.177607</td>\n",
       "      <td>0.820425</td>\n",
       "      <td>0.998032</td>\n",
       "    </tr>\n",
       "    <tr>\n",
       "      <th>8</th>\n",
       "      <td>evel</td>\n",
       "      <td>0.252381</td>\n",
       "      <td>0.728387</td>\n",
       "      <td>0.980768</td>\n",
       "    </tr>\n",
       "  </tbody>\n",
       "</table>\n",
       "</div>"
      ],
      "text/plain": [
       "   Noms  Qualité_Axe1  Qualité_Axe2  Qualité_Plan\n",
       "0  jean      0.973793      0.026080      0.999873\n",
       "1  alan      0.983177      0.016483      0.999660\n",
       "2  anni      0.461268      0.537359      0.998627\n",
       "3  moni      0.996067      0.003689      0.999755\n",
       "4  didi      0.906559      0.092513      0.999073\n",
       "5  andr      0.275100      0.724172      0.999272\n",
       "6  pier      0.025188      0.974147      0.999335\n",
       "7  brig      0.177607      0.820425      0.998032\n",
       "8  evel      0.252381      0.728387      0.980768"
      ]
     },
     "execution_count": 97,
     "metadata": {},
     "output_type": "execute_result"
    }
   ],
   "source": [
    "cos2 = np.square(C) / np.square(np.linalg.norm(X, axis = 1))[:,None] # Qualité de projection\n",
    "# Proche de 1, la presentation sur le plan est assez bonne\n",
    "Repres = pd.DataFrame()\n",
    "Repres['Noms'] = names\n",
    "Repres['Qualité_Axe1'] = cos2[:,0]\n",
    "Repres['Qualité_Axe2'] = cos2[:,1]\n",
    "Repres['Qualité_Plan'] = cos2.sum(axis = 1)\n",
    "Repres"
   ]
  },
  {
   "cell_type": "markdown",
   "metadata": {},
   "source": [
    "### Contribution d'un individu à un axe"
   ]
  },
  {
   "cell_type": "markdown",
   "metadata": {},
   "source": [
    "Par exemple, sur le premier axe\n",
    "\\begin{equation}\n",
    "CTB_{u1}(x_i) = \\frac{(C^1_i)^2/n}{\\lambda_1}\n",
    "\\end{equation}"
   ]
  },
  {
   "cell_type": "code",
   "execution_count": 100,
   "metadata": {},
   "outputs": [
    {
     "data": {
      "text/html": [
       "<div>\n",
       "<style scoped>\n",
       "    .dataframe tbody tr th:only-of-type {\n",
       "        vertical-align: middle;\n",
       "    }\n",
       "\n",
       "    .dataframe tbody tr th {\n",
       "        vertical-align: top;\n",
       "    }\n",
       "\n",
       "    .dataframe thead th {\n",
       "        text-align: right;\n",
       "    }\n",
       "</style>\n",
       "<table border=\"1\" class=\"dataframe\">\n",
       "  <thead>\n",
       "    <tr style=\"text-align: right;\">\n",
       "      <th></th>\n",
       "      <th>Noms</th>\n",
       "      <th>Contrib_Axe1</th>\n",
       "      <th>Contrib_Axe2</th>\n",
       "    </tr>\n",
       "  </thead>\n",
       "  <tbody>\n",
       "    <tr>\n",
       "      <th>0</th>\n",
       "      <td>jean</td>\n",
       "      <td>0.291867</td>\n",
       "      <td>0.018345</td>\n",
       "    </tr>\n",
       "    <tr>\n",
       "      <th>1</th>\n",
       "      <td>alan</td>\n",
       "      <td>0.059206</td>\n",
       "      <td>0.002330</td>\n",
       "    </tr>\n",
       "    <tr>\n",
       "      <th>2</th>\n",
       "      <td>anni</td>\n",
       "      <td>0.040635</td>\n",
       "      <td>0.111099</td>\n",
       "    </tr>\n",
       "    <tr>\n",
       "      <th>3</th>\n",
       "      <td>moni</td>\n",
       "      <td>0.381947</td>\n",
       "      <td>0.003319</td>\n",
       "    </tr>\n",
       "    <tr>\n",
       "      <th>4</th>\n",
       "      <td>didi</td>\n",
       "      <td>0.161519</td>\n",
       "      <td>0.038684</td>\n",
       "    </tr>\n",
       "    <tr>\n",
       "      <th>5</th>\n",
       "      <td>andr</td>\n",
       "      <td>0.036203</td>\n",
       "      <td>0.223665</td>\n",
       "    </tr>\n",
       "    <tr>\n",
       "      <th>6</th>\n",
       "      <td>pier</td>\n",
       "      <td>0.004138</td>\n",
       "      <td>0.375596</td>\n",
       "    </tr>\n",
       "    <tr>\n",
       "      <th>7</th>\n",
       "      <td>brig</td>\n",
       "      <td>0.015025</td>\n",
       "      <td>0.162887</td>\n",
       "    </tr>\n",
       "    <tr>\n",
       "      <th>8</th>\n",
       "      <td>evel</td>\n",
       "      <td>0.009460</td>\n",
       "      <td>0.064075</td>\n",
       "    </tr>\n",
       "  </tbody>\n",
       "</table>\n",
       "</div>"
      ],
      "text/plain": [
       "   Noms  Contrib_Axe1  Contrib_Axe2\n",
       "0  jean      0.291867      0.018345\n",
       "1  alan      0.059206      0.002330\n",
       "2  anni      0.040635      0.111099\n",
       "3  moni      0.381947      0.003319\n",
       "4  didi      0.161519      0.038684\n",
       "5  andr      0.036203      0.223665\n",
       "6  pier      0.004138      0.375596\n",
       "7  brig      0.015025      0.162887\n",
       "8  evel      0.009460      0.064075"
      ]
     },
     "execution_count": 100,
     "metadata": {},
     "output_type": "execute_result"
    }
   ],
   "source": [
    "ctb = np.square(C) / (n * lambd[:2])\n",
    "Contrib = pd.DataFrame()\n",
    "Contrib['Noms'] = names\n",
    "Contrib['Contrib_Axe1'] = ctb[:,0]\n",
    "Contrib['Contrib_Axe2'] = ctb[:,1]\n",
    "Contrib"
   ]
  },
  {
   "cell_type": "markdown",
   "metadata": {},
   "source": [
    "### Cercle de corrélations\n",
    "On trace $(corr(C^1, x^j), corr(C^2, x^j))\\;\\;\\forall j$"
   ]
  },
  {
   "cell_type": "code",
   "execution_count": 27,
   "metadata": {},
   "outputs": [
    {
     "data": {
      "text/plain": [
       "Text(0.5, 1.0, 'Cercle des corrélations')"
      ]
     },
     "execution_count": 27,
     "metadata": {},
     "output_type": "execute_result"
    },
    {
     "data": {
      "image/png": "[encoded data removed]",
      "text/plain": [
       "<Figure size 432x288 with 1 Axes>"
      ]
     },
     "metadata": {
      "needs_background": "light"
     },
     "output_type": "display_data"
    }
   ],
   "source": [
    "a = np.linspace(0,2*np.pi, 100)\n",
    "plt.plot(np.cos(a), np.sin(a))\n",
    "for i in range(p):\n",
    "    xi = np.corrcoef(C1, X[:,i])[0,1]\n",
    "    yi = np.corrcoef(C2, X[:,i])[0,1]\n",
    "    plt.arrow(0,0,xi,yi, color = 'b')\n",
    "    plt.text(xi, yi, features[i])\n",
    "plt.title(\"Cercle des corrélations\")"
   ]
  },
  {
   "cell_type": "markdown",
   "metadata": {},
   "source": [
    "## ACP - Scikit Learn - Résumé"
   ]
  },
  {
   "cell_type": "code",
   "execution_count": 28,
   "metadata": {},
   "outputs": [
    {
     "name": "stdout",
     "output_type": "stream",
     "text": [
      "Part d'inertie expliquée par l'axe #0: 0.700466942857728\n",
      "Part d'inertie expliquée par l'axe #1: 0.298460713757289\n",
      "Part d'inertie expliquée par l'axe #2: 0.0008095537753097013\n",
      "Part d'inertie expliquée par l'axe #3: 0.00026278960967340354\n"
     ]
    }
   ],
   "source": [
    "from sklearn import decomposition\n",
    "\n",
    "data = pd.read_csv(\"~/Desktop/notes_ACP.txt\", sep = \" \")\n",
    "X = preprocessing.StandardScaler(with_std=False).fit_transform(data)\n",
    "\n",
    "n, p = data.shape\n",
    "names = list(data.index)\n",
    "features = list(data.columns)\n",
    "\n",
    "pca = decomposition.PCA(n_components = p)\n",
    "pca.fit(X)\n",
    "\n",
    "for i in range(p):\n",
    "    print(\"Part d'inertie expliquée par l'axe #{}: {}\".format(i, pca.explained_variance_ratio_[i]))\n",
    "    \n",
    "C = pca.transform(X) # Représentation des individus dans les nouveaux axe\n",
    "C1 = C[:,0]\n",
    "C2 = C[:,1]"
   ]
  },
  {
   "cell_type": "code",
   "execution_count": 29,
   "metadata": {},
   "outputs": [
    {
     "data": {
      "image/png": "[encoded data removed]",
      "text/plain": [
       "<Figure size 720x360 with 2 Axes>"
      ]
     },
     "metadata": {
      "needs_background": "light"
     },
     "output_type": "display_data"
    }
   ],
   "source": [
    "### Figures\n",
    "\n",
    "plt.figure(figsize=(10, 5))\n",
    "plt.subplot(121)\n",
    "plt.scatter(C1, C2)\n",
    "for i in range(n):\n",
    "    plt.text(C1[i], C2[i], names[i])\n",
    "plt.title(\"Projection sur les 2 premiers axes\")\n",
    "plt.subplot(122) \n",
    "\n",
    "a = np.linspace(0,2*np.pi,100)\n",
    "plt.plot(np.cos(a), np.sin(a))\n",
    "for i in range(p):\n",
    "    xi = np.corrcoef(C1, X[:,i])[0,1]\n",
    "    yi = np.corrcoef(C2, X[:,i])[0,1]\n",
    "    plt.arrow(0,0,xi,yi, color = 'b')\n",
    "    plt.text(xi, yi, features[i])\n",
    "plt.title(\"Cercle des corrélations\")\n",
    "plt.subplots_adjust( wspace = 0.25 )"
   ]
  },
  {
   "cell_type": "markdown",
   "metadata": {},
   "source": [
    "# Quel est le but de l'ACP ?\n",
    "\n",
    "On veut résumer au mieux l'information contenue dans le jeu de données afin de faciliter l'interpretation.\n",
    "\n",
    "# Formules utiles:\n",
    "\n",
    "## Matrice de variance-covariance des p variables\n",
    "\n",
    "\\begin{equation}\n",
    "S = \\begin{bmatrix}\n",
    "s_1^2 & s_{12} & ... & s_{1p} \\\\\n",
    "s_{21} & s_2^2 & ... & s_{2p} \\\\\n",
    "... & ... & ... & ... \\\\\n",
    "s_{p1} & s_{p2} & ... & s_p^2 \n",
    "\\end{bmatrix}\n",
    "\\end{equation}\n",
    "\n",
    "\\begin{equation}\n",
    "S = \\frac{1}{n} X^T X\n",
    "\\end{equation}\n",
    "\n",
    "\n",
    "## Inertie\n",
    "\n",
    "Elle représente la dispersion du nuage de points.\n",
    "\\begin{equation}\n",
    "I_T = Tr(S)\n",
    "\\end{equation}\n",
    "\n",
    "\\begin{equation}\n",
    "I_T = \\lambda_1 + \\lambda_2 + ... \\lambda_p\n",
    "\\end{equation}\n",
    "\n",
    "### Part d'inertie expliquée par chaque axe\n",
    "\n",
    "\\begin{equation}\n",
    "\\frac{\\lambda_d}{I_t}\n",
    "\\end{equation}\n",
    "\n",
    "### Représentation des individus dans les nouveaux axes\n",
    "\n",
    "La $d$-ème composante principal $ C^d = X u_d $ donne les coordonnées des $n$ individus sur le $d$-ème axe principal.\n",
    "\n",
    "### Qualité de la représentation d’un individu \n",
    "Par exemple, sur le premier axe principal:\n",
    "\\begin{equation}\n",
    "cos^2_{u1}(x_1) = \\frac{(C^1_i)^2}{||x_i||^2}\n",
    "\\end{equation}\n",
    "\n",
    "Si la valeur est proche de $1$, on dit que la représentation dans le premier axe de l'individu $i$ est bonne.\n",
    "\n",
    "### Contribution d'un individu à un axe\n",
    "Par exemple, sur le premier axe principal:\n",
    "\\begin{equation}\n",
    "CTB_{u1}(x_i) = \\frac{(C^1_i)^2/n}{\\lambda_1}\n",
    "\\end{equation}\n",
    "\n",
    "Attention aux individus qui contribuent excessivement à l'axe.\n",
    "\n",
    "### Cercle de corrélations\n",
    "On trace $(corr(C^1, x^j), corr(C^2, x^j))\\;\\;\\forall j$\n",
    "\n",
    "La variable $x^j$ sera bien représentée dans le nouveau repère si elle est proche du cercle de corrélation.\n",
    "\n"
   ]
  },
  {
   "cell_type": "markdown",
   "metadata": {},
   "source": [
    "## Liens utiles\n",
    "\n",
    "D'après le cours de [Fanny Villers](https://www.lpsm.paris/pageperso/villers/)\n",
    "\n",
    "[Notes de cours de Andrew Ng - Standford](http://cs229.stanford.edu/notes/cs229-notes10.pdf)\n",
    "\n",
    "[Vidéos de cours de Andrew Ng - MOOC Coursera](https://www.youtube.com/watch?v=Zbr5hyJNGCs&list=PLLssT5z_DsK-h9vYZkQkYNWcItqhlRJLN&index=81)\n",
    "\n",
    "Python: [scikit-learn PCA](https://scikit-learn.org/stable/modules/generated/sklearn.decomposition.PCA.html) - [prince PCA](https://github.com/MaxHalford/prince#principal-component-analysis-pca)\n",
    "\n",
    "R: [FactoMineR](http://factominer.free.fr/factomethods/analyse-en-composantes-principales.html)"
   ]
  },
  {
   "cell_type": "code",
   "execution_count": null,
   "metadata": {},
   "outputs": [],
   "source": []
  }
 ],
 "metadata": {
  "kernelspec": {
   "display_name": "Python 2",
   "language": "python",
   "name": "python2"
  },
  "language_info": {
   "codemirror_mode": {
    "name": "ipython",
    "version": 3
   },
   "file_extension": ".py",
   "mimetype": "text/x-python",
   "name": "python",
   "nbconvert_exporter": "python",
   "pygments_lexer": "ipython3",
   "version": "3.6.7"
  }
 },
 "nbformat": 4,
 "nbformat_minor": 2
}
