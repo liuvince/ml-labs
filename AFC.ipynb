{
 "cells": [
  {
   "cell_type": "markdown",
   "metadata": {},
   "source": [
    "## TP sur l'AFC en Python\n",
    "\n",
    "Fait par Vincent LIU, traduction du TP en R de Fanny Villers."
   ]
  },
  {
   "cell_type": "code",
   "execution_count": 2,
   "metadata": {},
   "outputs": [],
   "source": [
    "import numpy as np\n",
    "import pandas as pd\n",
    "import sklearn\n",
    "import seaborn as sns; sns.set()\n",
    "import matplotlib.pyplot as plt\n",
    "from sklearn import preprocessing"
   ]
  },
  {
   "cell_type": "code",
   "execution_count": 3,
   "metadata": {},
   "outputs": [],
   "source": [
    "data = pd.read_csv(\"../data/Presidentielle.CSV\", index_col=0)"
   ]
  },
  {
   "cell_type": "markdown",
   "metadata": {},
   "source": [
    "### Statistique descriptive"
   ]
  },
  {
   "cell_type": "code",
   "execution_count": 4,
   "metadata": {},
   "outputs": [
    {
     "name": "stdout",
     "output_type": "stream",
     "text": [
      "Il y a 23 régions et 12 candidats.\n"
     ]
    }
   ],
   "source": [
    "n, p = data.shape\n",
    "print(\"Il y a {} régions et {} candidats.\".format(n,p))"
   ]
  },
  {
   "cell_type": "code",
   "execution_count": 4,
   "metadata": {},
   "outputs": [
    {
     "data": {
      "text/html": [
       "<div>\n",
       "<style scoped>\n",
       "    .dataframe tbody tr th:only-of-type {\n",
       "        vertical-align: middle;\n",
       "    }\n",
       "\n",
       "    .dataframe tbody tr th {\n",
       "        vertical-align: top;\n",
       "    }\n",
       "\n",
       "    .dataframe thead th {\n",
       "        text-align: right;\n",
       "    }\n",
       "</style>\n",
       "<table border=\"1\" class=\"dataframe\">\n",
       "  <thead>\n",
       "    <tr style=\"text-align: right;\">\n",
       "      <th></th>\n",
       "      <th>Sarkozy</th>\n",
       "      <th>Bayrou</th>\n",
       "      <th>Royal</th>\n",
       "      <th>Le Pen</th>\n",
       "      <th>Besanc.</th>\n",
       "      <th>Villiers</th>\n",
       "      <th>Voynet</th>\n",
       "      <th>Laguiller</th>\n",
       "      <th>Bove</th>\n",
       "      <th>Buffet</th>\n",
       "      <th>Nihous</th>\n",
       "      <th>Schivardi</th>\n",
       "    </tr>\n",
       "  </thead>\n",
       "  <tbody>\n",
       "    <tr>\n",
       "      <th>count</th>\n",
       "      <td>2.300000e+01</td>\n",
       "      <td>2.300000e+01</td>\n",
       "      <td>2.300000e+01</td>\n",
       "      <td>23.000000</td>\n",
       "      <td>23.000000</td>\n",
       "      <td>23.000000</td>\n",
       "      <td>23.000000</td>\n",
       "      <td>23.000000</td>\n",
       "      <td>23.000000</td>\n",
       "      <td>23.000000</td>\n",
       "      <td>23.000000</td>\n",
       "      <td>23.000000</td>\n",
       "    </tr>\n",
       "    <tr>\n",
       "      <th>mean</th>\n",
       "      <td>4.923304e+05</td>\n",
       "      <td>2.934785e+05</td>\n",
       "      <td>4.088173e+05</td>\n",
       "      <td>166272.086957</td>\n",
       "      <td>64975.913043</td>\n",
       "      <td>35469.086957</td>\n",
       "      <td>24793.043478</td>\n",
       "      <td>21151.956522</td>\n",
       "      <td>20831.521739</td>\n",
       "      <td>30673.347826</td>\n",
       "      <td>18265.086957</td>\n",
       "      <td>5361.086957</td>\n",
       "    </tr>\n",
       "    <tr>\n",
       "      <th>std</th>\n",
       "      <td>4.011838e+05</td>\n",
       "      <td>2.408640e+05</td>\n",
       "      <td>3.205486e+05</td>\n",
       "      <td>110988.510044</td>\n",
       "      <td>40191.861478</td>\n",
       "      <td>25711.488942</td>\n",
       "      <td>19547.947152</td>\n",
       "      <td>12788.345079</td>\n",
       "      <td>13913.197410</td>\n",
       "      <td>25086.997579</td>\n",
       "      <td>10666.914383</td>\n",
       "      <td>3355.324099</td>\n",
       "    </tr>\n",
       "    <tr>\n",
       "      <th>min</th>\n",
       "      <td>5.681900e+04</td>\n",
       "      <td>1.897900e+04</td>\n",
       "      <td>3.349300e+04</td>\n",
       "      <td>23432.000000</td>\n",
       "      <td>5941.000000</td>\n",
       "      <td>1908.000000</td>\n",
       "      <td>2119.000000</td>\n",
       "      <td>1346.000000</td>\n",
       "      <td>1659.000000</td>\n",
       "      <td>5163.000000</td>\n",
       "      <td>2260.000000</td>\n",
       "      <td>450.000000</td>\n",
       "    </tr>\n",
       "    <tr>\n",
       "      <th>25%</th>\n",
       "      <td>2.892290e+05</td>\n",
       "      <td>1.653155e+05</td>\n",
       "      <td>2.173925e+05</td>\n",
       "      <td>91390.500000</td>\n",
       "      <td>37473.000000</td>\n",
       "      <td>21473.500000</td>\n",
       "      <td>13284.500000</td>\n",
       "      <td>13690.500000</td>\n",
       "      <td>12429.500000</td>\n",
       "      <td>14878.500000</td>\n",
       "      <td>9697.000000</td>\n",
       "      <td>2806.000000</td>\n",
       "    </tr>\n",
       "    <tr>\n",
       "      <th>50%</th>\n",
       "      <td>3.623910e+05</td>\n",
       "      <td>2.142590e+05</td>\n",
       "      <td>3.222120e+05</td>\n",
       "      <td>143926.000000</td>\n",
       "      <td>58312.000000</td>\n",
       "      <td>28166.000000</td>\n",
       "      <td>20382.000000</td>\n",
       "      <td>18623.000000</td>\n",
       "      <td>14904.000000</td>\n",
       "      <td>22334.000000</td>\n",
       "      <td>20439.000000</td>\n",
       "      <td>4207.000000</td>\n",
       "    </tr>\n",
       "    <tr>\n",
       "      <th>75%</th>\n",
       "      <td>5.448170e+05</td>\n",
       "      <td>3.795985e+05</td>\n",
       "      <td>5.547900e+05</td>\n",
       "      <td>182804.000000</td>\n",
       "      <td>83280.500000</td>\n",
       "      <td>40957.000000</td>\n",
       "      <td>29836.500000</td>\n",
       "      <td>25618.000000</td>\n",
       "      <td>27676.500000</td>\n",
       "      <td>36333.000000</td>\n",
       "      <td>23425.500000</td>\n",
       "      <td>7026.500000</td>\n",
       "    </tr>\n",
       "    <tr>\n",
       "      <th>max</th>\n",
       "      <td>1.931429e+06</td>\n",
       "      <td>1.143081e+06</td>\n",
       "      <td>1.593033e+06</td>\n",
       "      <td>430553.000000</td>\n",
       "      <td>181247.000000</td>\n",
       "      <td>107895.000000</td>\n",
       "      <td>89885.000000</td>\n",
       "      <td>52965.000000</td>\n",
       "      <td>57453.000000</td>\n",
       "      <td>110967.000000</td>\n",
       "      <td>43595.000000</td>\n",
       "      <td>12386.000000</td>\n",
       "    </tr>\n",
       "  </tbody>\n",
       "</table>\n",
       "</div>"
      ],
      "text/plain": [
       "            Sarkozy        Bayrou         Royal         Le Pen        Besanc.  \\\n",
       "count  2.300000e+01  2.300000e+01  2.300000e+01      23.000000      23.000000   \n",
       "mean   4.923304e+05  2.934785e+05  4.088173e+05  166272.086957   64975.913043   \n",
       "std    4.011838e+05  2.408640e+05  3.205486e+05  110988.510044   40191.861478   \n",
       "min    5.681900e+04  1.897900e+04  3.349300e+04   23432.000000    5941.000000   \n",
       "25%    2.892290e+05  1.653155e+05  2.173925e+05   91390.500000   37473.000000   \n",
       "50%    3.623910e+05  2.142590e+05  3.222120e+05  143926.000000   58312.000000   \n",
       "75%    5.448170e+05  3.795985e+05  5.547900e+05  182804.000000   83280.500000   \n",
       "max    1.931429e+06  1.143081e+06  1.593033e+06  430553.000000  181247.000000   \n",
       "\n",
       "            Villiers        Voynet     Laguiller          Bove         Buffet  \\\n",
       "count      23.000000     23.000000     23.000000     23.000000      23.000000   \n",
       "mean    35469.086957  24793.043478  21151.956522  20831.521739   30673.347826   \n",
       "std     25711.488942  19547.947152  12788.345079  13913.197410   25086.997579   \n",
       "min      1908.000000   2119.000000   1346.000000   1659.000000    5163.000000   \n",
       "25%     21473.500000  13284.500000  13690.500000  12429.500000   14878.500000   \n",
       "50%     28166.000000  20382.000000  18623.000000  14904.000000   22334.000000   \n",
       "75%     40957.000000  29836.500000  25618.000000  27676.500000   36333.000000   \n",
       "max    107895.000000  89885.000000  52965.000000  57453.000000  110967.000000   \n",
       "\n",
       "             Nihous     Schivardi  \n",
       "count     23.000000     23.000000  \n",
       "mean   18265.086957   5361.086957  \n",
       "std    10666.914383   3355.324099  \n",
       "min     2260.000000    450.000000  \n",
       "25%     9697.000000   2806.000000  \n",
       "50%    20439.000000   4207.000000  \n",
       "75%    23425.500000   7026.500000  \n",
       "max    43595.000000  12386.000000  "
      ]
     },
     "execution_count": 4,
     "metadata": {},
     "output_type": "execute_result"
    }
   ],
   "source": [
    "data.describe()"
   ]
  },
  {
   "cell_type": "code",
   "execution_count": 5,
   "metadata": {},
   "outputs": [
    {
     "data": {
      "text/html": [
       "<div>\n",
       "<style scoped>\n",
       "    .dataframe tbody tr th:only-of-type {\n",
       "        vertical-align: middle;\n",
       "    }\n",
       "\n",
       "    .dataframe tbody tr th {\n",
       "        vertical-align: top;\n",
       "    }\n",
       "\n",
       "    .dataframe thead th {\n",
       "        text-align: right;\n",
       "    }\n",
       "</style>\n",
       "<table border=\"1\" class=\"dataframe\">\n",
       "  <thead>\n",
       "    <tr style=\"text-align: right;\">\n",
       "      <th></th>\n",
       "      <th>Sarkozy</th>\n",
       "      <th>Bayrou</th>\n",
       "      <th>Royal</th>\n",
       "      <th>Le Pen</th>\n",
       "      <th>Besanc.</th>\n",
       "      <th>Villiers</th>\n",
       "      <th>Voynet</th>\n",
       "      <th>Laguiller</th>\n",
       "      <th>Bove</th>\n",
       "      <th>Buffet</th>\n",
       "      <th>Nihous</th>\n",
       "      <th>Schivardi</th>\n",
       "    </tr>\n",
       "  </thead>\n",
       "  <tbody>\n",
       "    <tr>\n",
       "      <th>Alsace</th>\n",
       "      <td>362391</td>\n",
       "      <td>214259</td>\n",
       "      <td>171282</td>\n",
       "      <td>135730</td>\n",
       "      <td>33310</td>\n",
       "      <td>22492</td>\n",
       "      <td>20382</td>\n",
       "      <td>13821</td>\n",
       "      <td>13758</td>\n",
       "      <td>6100</td>\n",
       "      <td>5142</td>\n",
       "      <td>2522</td>\n",
       "    </tr>\n",
       "    <tr>\n",
       "      <th>Aquitaine</th>\n",
       "      <td>532127</td>\n",
       "      <td>417546</td>\n",
       "      <td>557300</td>\n",
       "      <td>168664</td>\n",
       "      <td>78230</td>\n",
       "      <td>34028</td>\n",
       "      <td>28285</td>\n",
       "      <td>22046</td>\n",
       "      <td>27941</td>\n",
       "      <td>41791</td>\n",
       "      <td>35300</td>\n",
       "      <td>7572</td>\n",
       "    </tr>\n",
       "    <tr>\n",
       "      <th>Auvergne</th>\n",
       "      <td>238152</td>\n",
       "      <td>169395</td>\n",
       "      <td>225477</td>\n",
       "      <td>78704</td>\n",
       "      <td>41522</td>\n",
       "      <td>18730</td>\n",
       "      <td>12090</td>\n",
       "      <td>12936</td>\n",
       "      <td>13532</td>\n",
       "      <td>21920</td>\n",
       "      <td>12474</td>\n",
       "      <td>4207</td>\n",
       "    </tr>\n",
       "    <tr>\n",
       "      <th>Bourgogne</th>\n",
       "      <td>297544</td>\n",
       "      <td>175213</td>\n",
       "      <td>241094</td>\n",
       "      <td>119041</td>\n",
       "      <td>42246</td>\n",
       "      <td>24971</td>\n",
       "      <td>13690</td>\n",
       "      <td>14440</td>\n",
       "      <td>12296</td>\n",
       "      <td>18154</td>\n",
       "      <td>12079</td>\n",
       "      <td>3608</td>\n",
       "    </tr>\n",
       "    <tr>\n",
       "      <th>Bretagne</th>\n",
       "      <td>557507</td>\n",
       "      <td>451988</td>\n",
       "      <td>564100</td>\n",
       "      <td>143926</td>\n",
       "      <td>94205</td>\n",
       "      <td>41212</td>\n",
       "      <td>39026</td>\n",
       "      <td>25662</td>\n",
       "      <td>28484</td>\n",
       "      <td>31860</td>\n",
       "      <td>21207</td>\n",
       "      <td>5169</td>\n",
       "    </tr>\n",
       "  </tbody>\n",
       "</table>\n",
       "</div>"
      ],
      "text/plain": [
       "           Sarkozy  Bayrou   Royal  Le Pen  Besanc.  Villiers  Voynet  \\\n",
       "Alsace      362391  214259  171282  135730    33310     22492   20382   \n",
       "Aquitaine   532127  417546  557300  168664    78230     34028   28285   \n",
       "Auvergne    238152  169395  225477   78704    41522     18730   12090   \n",
       "Bourgogne   297544  175213  241094  119041    42246     24971   13690   \n",
       "Bretagne    557507  451988  564100  143926    94205     41212   39026   \n",
       "\n",
       "           Laguiller   Bove  Buffet  Nihous  Schivardi  \n",
       "Alsace         13821  13758    6100    5142       2522  \n",
       "Aquitaine      22046  27941   41791   35300       7572  \n",
       "Auvergne       12936  13532   21920   12474       4207  \n",
       "Bourgogne      14440  12296   18154   12079       3608  \n",
       "Bretagne       25662  28484   31860   21207       5169  "
      ]
     },
     "execution_count": 5,
     "metadata": {},
     "output_type": "execute_result"
    }
   ],
   "source": [
    "data.head()"
   ]
  },
  {
   "cell_type": "code",
   "execution_count": 6,
   "metadata": {},
   "outputs": [
    {
     "data": {
      "text/plain": [
       "<matplotlib.axes._subplots.AxesSubplot at 0x7f8df96f5630>"
      ]
     },
     "execution_count": 6,
     "metadata": {},
     "output_type": "execute_result"
    },
    {
     "data": {
      "image/png": "[encoded data removed]",
      "text/plain": [
       "<Figure size 432x288 with 1 Axes>"
      ]
     },
     "metadata": {},
     "output_type": "display_data"
    }
   ],
   "source": [
    "data.sum(axis = 0).plot.pie() # Part de vote de chaque candidat"
   ]
  },
  {
   "cell_type": "code",
   "execution_count": 7,
   "metadata": {},
   "outputs": [
    {
     "data": {
      "text/plain": [
       "<matplotlib.axes._subplots.AxesSubplot at 0x7f8df969b4e0>"
      ]
     },
     "execution_count": 7,
     "metadata": {},
     "output_type": "execute_result"
    },
    {
     "data": {
      "image/png": "[encoded data removed]",
      "text/plain": [
       "<Figure size 432x288 with 1 Axes>"
      ]
     },
     "metadata": {},
     "output_type": "display_data"
    }
   ],
   "source": [
    "data.sum(axis = 1).plot.pie()"
   ]
  },
  {
   "cell_type": "markdown",
   "metadata": {},
   "source": [
    "La région Ile de France présente plus d'électeurs."
   ]
  },
  {
   "cell_type": "markdown",
   "metadata": {},
   "source": [
    "## Test du Khi-deux pour muserer l'écart à l'indépendance"
   ]
  },
  {
   "cell_type": "code",
   "execution_count": 8,
   "metadata": {},
   "outputs": [
    {
     "name": "stdout",
     "output_type": "stream",
     "text": [
      "Pearson's Chi-squared test\n",
      "X-squared = 1215973.3297393597, df = 242, p-value = 0.0\n"
     ]
    }
   ],
   "source": [
    "from scipy.stats import chi2_contingency\n",
    "X_squared, p, df, _ = chi2_contingency(data)\n",
    "print(\"Pearson's Chi-squared test\")\n",
    "print(\"X-squared = {}, df = {}, p-value = {}\".format(X_squared, df,p ))"
   ]
  },
  {
   "cell_type": "markdown",
   "metadata": {},
   "source": [
    "Les deux variables sont donc liées."
   ]
  },
  {
   "cell_type": "markdown",
   "metadata": {},
   "source": [
    "## Analyse Factorielle des correspondances - AFC"
   ]
  },
  {
   "cell_type": "code",
   "execution_count": 9,
   "metadata": {},
   "outputs": [
    {
     "data": {
      "image/png": "[encoded data removed]",
      "text/plain": [
       "<Figure size 432x432 with 1 Axes>"
      ]
     },
     "metadata": {
      "needs_background": "light"
     },
     "output_type": "display_data"
    }
   ],
   "source": [
    "import prince\n",
    "ca = prince.CA(n_components=data.shape[0])\n",
    "ca.fit(data)\n",
    "ax = ca.plot_coordinates(data)"
   ]
  },
  {
   "cell_type": "markdown",
   "metadata": {},
   "source": [
    "## Affichage du résumé"
   ]
  },
  {
   "cell_type": "code",
   "execution_count": 17,
   "metadata": {},
   "outputs": [],
   "source": [
    "def summary_row(ca):\n",
    "    \"\"\"\n",
    "        Test\n",
    "    \"\"\"\n",
    "    # Chi square test\n",
    "    X_squared, p, df, _ = chi2_contingency(data)\n",
    "    print(\"\\n----------\")\n",
    "    print(\"Chi square\")\n",
    "    print(\"----------\")\n",
    "    \n",
    "    print(\"The chi square of independence between the two variables is equal to {} (p-value =  0).\\n\".format(int(X_squared),p))\n",
    "    \n",
    "    nb_axis = 3\n",
    "    lambd = ca.eigenvalues_\n",
    "    # Eigenvalues\n",
    "    print(\"\\n-----------\")\n",
    "    print(\"Eigenvalues\")\n",
    "    print(\"-----------\")\n",
    "    eig = pd.DataFrame()\n",
    "    eig['Variance'] = np.array(ca.eigenvalues_[:nb_axis])\n",
    "    eig['% of var'] = np.array(ca.explained_inertia_[:nb_axis])\n",
    "    eig['Cumulative% of var'] = np.cumsum(ca.explained_inertia_[:nb_axis])\n",
    "    print(eig.T)\n",
    "    \n",
    "    # Rows\n",
    "    print(\"\\n----------------\")\n",
    "    print(\"Rows Coordinates\")\n",
    "    print(\"----------------\")\n",
    "    print(-ca.row_coordinates(data).iloc[:,:nb_axis])\n",
    "    \n",
    "    print(\"\\n--------\")\n",
    "    print(\"Rows CTR\")\n",
    "    print(\"--------\")\n",
    "    pi  = ( data.sum(axis = 1) / data.values.sum() ).values ## Le poids qu'on donne, dans l'acp tlm a le mm poids\n",
    "    CTR = np.square(-ca.row_coordinates(data)) * pi[:,None] / lambd[:] * 100\n",
    "    print(CTR.iloc[:,:nb_axis])\n",
    "    \n",
    "def summary_column(ca):\n",
    "    \"\"\"\n",
    "        Test\n",
    "    \"\"\"\n",
    "    # Chi square test\n",
    "    X_squared, p, df, _ = chi2_contingency(data)\n",
    "    print(\"\\n----------\")\n",
    "    print(\"Chi square\")\n",
    "    print(\"----------\")\n",
    "    \n",
    "    print(\"The chi square of independence between the two variables is equal to {} (p-value =  0).\\n\".format(int(X_squared),p))\n",
    "    \n",
    "    nb_axis = 3\n",
    "    lambd = ca.eigenvalues_  \n",
    "    # Eigenvalues\n",
    "    print(\"\\n-----------\")\n",
    "    print(\"Eigenvalues\")\n",
    "    print(\"-----------\")\n",
    "    eig = pd.DataFrame()\n",
    "    eig['Variance'] = np.array(ca.eigenvalues_[:nb_axis])\n",
    "    eig['% of var'] = np.array(ca.explained_inertia_[:nb_axis])\n",
    "    eig['Cumulative% of var'] = np.cumsum(ca.explained_inertia_[:nb_axis])\n",
    "    print(eig.T)\n",
    "    \n",
    "    # Rows\n",
    "    print(\"\\n-------------------\")\n",
    "    print(\"Columns Coordinates\")\n",
    "    print(\"-------------------\")\n",
    "    print(-ca.column_coordinates(data).iloc[:,:nb_axis])\n",
    "    \n",
    "    print(\"\\n-----------\")\n",
    "    print(\"Columns CTR\")\n",
    "    print(\"-----------\")\n",
    "    pi  = ( data.sum(axis = 0) / data.values.sum() ).values ## Le \"Poids\" qu'on donne\n",
    "    CTR = np.square(-ca.column_coordinates(data)) * pi[:,None] / lambd[:] * 100\n",
    "    print(CTR.iloc[:,:nb_axis])"
   ]
  },
  {
   "cell_type": "code",
   "execution_count": 200,
   "metadata": {
    "scrolled": true
   },
   "outputs": [
    {
     "name": "stdout",
     "output_type": "stream",
     "text": [
      "\n",
      "----------\n",
      "Chi square\n",
      "----------\n",
      "The chi square of independence between the two variables is equal to 1215973 (p-value =  0).\n",
      "\n",
      "\n",
      "-----------\n",
      "Eigenvalues\n",
      "-----------\n",
      "                           0         1         2\n",
      "Variance            0.014757  0.006926  0.006521\n",
      "% of var            0.441689  0.207301  0.195172\n",
      "Cumulative% of var  0.441689  0.648990  0.844162\n",
      "\n",
      "----------------\n",
      "Rows Coordinates\n",
      "----------------\n",
      "                   0         1         2\n",
      "Alsace      0.121883 -0.106710  0.187614\n",
      "Aquitaine  -0.082145  0.080618 -0.027619\n",
      "Auvergne   -0.025060  0.080737 -0.027201\n",
      "Bourgogne   0.060721  0.013889  0.000577\n",
      "Bretagne   -0.125870  0.075264  0.035399\n",
      "Centre      0.059343  0.034958  0.039719\n",
      "Cham-Ard    0.179930 -0.029106  0.020748\n",
      "Corse       0.189062 -0.148526 -0.094098\n",
      "Fr-Comte    0.104778 -0.009294 -0.001223\n",
      "Ile de Fr  -0.126320 -0.085429  0.023076\n",
      "Lang-Rous   0.102906 -0.023544 -0.090185\n",
      "Limousin   -0.067310  0.110302 -0.119926\n",
      "Lorraine    0.126405  0.005405  0.013738\n",
      "Midi-Pyr   -0.102172  0.070848 -0.073754\n",
      "Nord-PdC    0.168804  0.060798 -0.136696\n",
      "Basse-Nor   0.028321  0.093623  0.060414\n",
      "Haute-Nor   0.082358  0.052230 -0.032872\n",
      "Pays-Loire -0.076037  0.121572  0.134288\n",
      "Picardie    0.199503  0.035994 -0.064774\n",
      "Poit.-Cha  -0.078565  0.115105 -0.019038\n",
      "PACA        0.130815 -0.137803  0.010546\n",
      "Rhone-Alp   0.002839 -0.033793  0.065943\n",
      "Outremer   -0.320128 -0.162292 -0.239291\n",
      "\n",
      "--------\n",
      "Rows CTR\n",
      "--------\n",
      "                    0          1          2\n",
      "Alsace       2.769266   4.522764  14.849364\n",
      "Aquitaine    2.450981   5.029873   0.627034\n",
      "Auvergne     0.099287   2.195846   0.264728\n",
      "Bourgogne    0.668914   0.074564   0.000137\n",
      "Bretagne     5.912604   4.504271   1.058333\n",
      "Centre       0.972069   0.718728   0.985491\n",
      "Cham-Ard     4.541793   0.253218   0.136666\n",
      "Corse        1.022046   1.343951   0.572959\n",
      "Fr-Comte     1.403422   0.023527   0.000432\n",
      "Ile de Fr   16.971642  16.538668   1.281763\n",
      "Lang-Rous    3.040837   0.339162   5.285440\n",
      "Limousin     0.394161   2.255238   2.831658\n",
      "Lorraine     4.056675   0.015801   0.108443\n",
      "Midi-Pyr     3.386484   3.469367   3.993473\n",
      "Nord-PdC    12.150668   3.358423  18.032074\n",
      "Basse-Nor    0.136009   3.166915   1.400664\n",
      "Haute-Nor    1.332375   1.141761   0.480361\n",
      "Pays-Loire   2.325586  12.666778  16.415587\n",
      "Picardie     8.108253   0.562357   1.934319\n",
      "Poit.-Cha    1.239941   5.670911   0.164780\n",
      "PACA         8.697247  20.563583   0.127924\n",
      "Rhone-Alp    0.005150   1.555308   6.290323\n",
      "Outremer    18.314590  10.028984  23.158045\n"
     ]
    }
   ],
   "source": [
    "summary_row(ca)"
   ]
  },
  {
   "cell_type": "code",
   "execution_count": 19,
   "metadata": {},
   "outputs": [
    {
     "name": "stdout",
     "output_type": "stream",
     "text": [
      "\n",
      "----------\n",
      "Chi square\n",
      "----------\n",
      "The chi square of independence between the two variables is equal to 1215973 (p-value =  0).\n",
      "\n",
      "\n",
      "-----------\n",
      "Eigenvalues\n",
      "-----------\n",
      "                           0         1         2\n",
      "Variance            0.014757  0.006926  0.006521\n",
      "% of var            0.441689  0.207301  0.195172\n",
      "Cumulative% of var  0.441689  0.648990  0.844162\n",
      "\n",
      "-------------------\n",
      "Columns Coordinates\n",
      "-------------------\n",
      "                  0         1         2\n",
      "Sarkozy    0.007066 -0.091129  0.027439\n",
      "Bayrou    -0.061044  0.050039  0.103173\n",
      "Royal     -0.124421  0.014647 -0.086361\n",
      "Le Pen     0.283909 -0.027441 -0.029679\n",
      "Besanc.    0.102572  0.149672 -0.036797\n",
      "Villiers   0.052720  0.219452  0.215026\n",
      "Voynet    -0.026881  0.009494  0.099134\n",
      "Laguiller  0.187752  0.142578 -0.081170\n",
      "Bove      -0.022176  0.029766 -0.035833\n",
      "Buffet     0.088576  0.014910 -0.192083\n",
      "Nihous     0.187964  0.351426 -0.130980\n",
      "Schivardi  0.105983  0.093016 -0.092068\n",
      "\n",
      "-----------\n",
      "Columns CTR\n",
      "-----------\n",
      "                   0          1          2\n",
      "Sarkozy     0.105260  37.305562   3.592472\n",
      "Bayrou      4.683322   6.704889  30.275688\n",
      "Royal      27.102228   0.800292  29.549940\n",
      "Le Pen     57.393958   1.142396   1.419384\n",
      "Besanc.     2.927477  13.281118   0.852650\n",
      "Villiers    0.422168  15.585942  15.893534\n",
      "Voynet      0.076718   0.020389   2.361362\n",
      "Laguiller   3.193045   3.923376   1.350611\n",
      "Bove        0.043870   0.168403   0.259226\n",
      "Buffet      1.030584   0.062218  10.967920\n",
      "Nihous      2.763493  20.582187   3.036803\n",
      "Schivardi   0.257877   0.423227   0.440410\n"
     ]
    }
   ],
   "source": [
    "summary_column(ca)"
   ]
  },
  {
   "cell_type": "markdown",
   "metadata": {},
   "source": [
    "## Liens utiles\n",
    "\n",
    "D'après le cours de [Fanny Villers](https://www.lpsm.paris/pageperso/villers/)\n",
    "\n",
    "Site de [Francois Husson](https://husson.github.io/index.html) pour en savoir plus\n",
    "\n",
    "Python: [prince CA](https://github.com/MaxHalford/prince#correspondence-analysis-ca)\n",
    "\n",
    "R: [FactoMineR](http://factominer.free.fr/factomethods/analyse-en-composantes-principales.html)"
   ]
  },
  {
   "cell_type": "code",
   "execution_count": null,
   "metadata": {},
   "outputs": [],
   "source": []
  }
 ],
 "metadata": {
  "kernelspec": {
   "display_name": "Python 3",
   "language": "python",
   "name": "python3"
  },
  "language_info": {
   "codemirror_mode": {
    "name": "ipython",
    "version": 3
   },
   "file_extension": ".py",
   "mimetype": "text/x-python",
   "name": "python",
   "nbconvert_exporter": "python",
   "pygments_lexer": "ipython3",
   "version": "3.6.7"
  }
 },
 "nbformat": 4,
 "nbformat_minor": 2
}
